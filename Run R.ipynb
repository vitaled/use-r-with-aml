{
  "cells": [
    {
      "cell_type": "code",
      "source": [
        "packageVersion(\"reticulate\")"
      ],
      "outputs": [
        {
          "output_type": "display_data",
          "data": {
            "text/plain": "[1] ‘1.30’"
          },
          "metadata": {}
        }
      ],
      "execution_count": 1,
      "metadata": {
        "gather": {
          "logged": 1712224742217
        }
      }
    },
    {
      "cell_type": "code",
      "source": [
        "library(reticulate)\n",
        "use_condaenv(\"azureml_py310_sdkv2\")\n",
        "print(\"Environment is set\")"
      ],
      "outputs": [
        {
          "output_type": "stream",
          "name": "stdout",
          "text": "[1] \"Environment is set\"\n"
        }
      ],
      "execution_count": 2,
      "metadata": {
        "jupyter": {
          "source_hidden": false,
          "outputs_hidden": false
        },
        "nteract": {
          "transient": {
            "deleting": false
          }
        },
        "gather": {
          "logged": 1712224757045
        }
      }
    },
    {
      "cell_type": "code",
      "source": [
        "py_code <- \"from azure.identity import DefaultAzureCredential\n",
        "from azure.ai.ml import MLClient\n",
        "credential = DefaultAzureCredential()\n",
        "ml_client = MLClient.from_config(credential=credential)\"\n",
        "\n",
        "py_run_string(py_code)\n",
        "print(\"ml_client is configured\")"
      ],
      "outputs": [
        {
          "output_type": "stream",
          "name": "stdout",
          "text": "[1] \"ml_client is configured\"\n"
        }
      ],
      "execution_count": 3,
      "metadata": {
        "jupyter": {
          "source_hidden": false,
          "outputs_hidden": false
        },
        "nteract": {
          "transient": {
            "deleting": false
          }
        },
        "gather": {
          "logged": 1712224820155
        }
      }
    },
    {
      "cell_type": "code",
      "source": [
        "\n",
        "my_name <- \"iris-dataset\"  \n",
        "my_version <- \"1\" \n",
        "  \n",
        "# Create a formatted string with sprintf()  \n",
        "py_code <- sprintf(\"my_name = '%s'\n",
        "my_version = '%s'\n",
        "data_asset = ml_client.data.get(name=my_name, version=my_version)\n",
        "data_uri = data_asset.path\",my_name,my_version)"
      ],
      "outputs": [],
      "execution_count": 4,
      "metadata": {
        "jupyter": {
          "source_hidden": false,
          "outputs_hidden": false
        },
        "nteract": {
          "transient": {
            "deleting": false
          }
        },
        "gather": {
          "logged": 1712224832318
        }
      }
    },
    {
      "cell_type": "code",
      "source": [
        "py_run_string(py_code)\n",
        "print(paste(\"URI path is\", py$data_uri))"
      ],
      "outputs": [
        {
          "output_type": "stream",
          "name": "stdout",
          "text": "[1] \"URI path is azureml://subscriptions/2f5570c6-da09-4547-910d-c624b72052d8/resourcegroups/rg-cajamar-aml-poc/workspaces/aml-cajamar-poc/datastores/amldatasets/paths//iris/iris.data\"\n"
        }
      ],
      "execution_count": 6,
      "metadata": {
        "jupyter": {
          "source_hidden": false,
          "outputs_hidden": false
        },
        "nteract": {
          "transient": {
            "deleting": false
          }
        },
        "gather": {
          "logged": 1712224861501
        }
      }
    },
    {
      "cell_type": "code",
      "source": [
        "pd <- import(\"pandas\")\n",
        "cc <- pd$read_csv(py$data_uri,header = NULL)\n",
        "head(cc)"
      ],
      "outputs": [
        {
          "output_type": "display_data",
          "data": {
            "text/html": "<table class=\"dataframe\">\n<caption>A data.frame: 6 × 5</caption>\n<thead>\n\t<tr><th></th><th scope=col>0</th><th scope=col>1</th><th scope=col>2</th><th scope=col>3</th><th scope=col>4</th></tr>\n\t<tr><th></th><th scope=col>&lt;dbl&gt;</th><th scope=col>&lt;dbl&gt;</th><th scope=col>&lt;dbl&gt;</th><th scope=col>&lt;dbl&gt;</th><th scope=col>&lt;chr&gt;</th></tr>\n</thead>\n<tbody>\n\t<tr><th scope=row>1</th><td>5.1</td><td>3.5</td><td>1.4</td><td>0.2</td><td>Iris-setosa</td></tr>\n\t<tr><th scope=row>2</th><td>4.9</td><td>3.0</td><td>1.4</td><td>0.2</td><td>Iris-setosa</td></tr>\n\t<tr><th scope=row>3</th><td>4.7</td><td>3.2</td><td>1.3</td><td>0.2</td><td>Iris-setosa</td></tr>\n\t<tr><th scope=row>4</th><td>4.6</td><td>3.1</td><td>1.5</td><td>0.2</td><td>Iris-setosa</td></tr>\n\t<tr><th scope=row>5</th><td>5.0</td><td>3.6</td><td>1.4</td><td>0.2</td><td>Iris-setosa</td></tr>\n\t<tr><th scope=row>6</th><td>5.4</td><td>3.9</td><td>1.7</td><td>0.4</td><td>Iris-setosa</td></tr>\n</tbody>\n</table>\n",
            "text/markdown": "\nA data.frame: 6 × 5\n\n| <!--/--> | 0 &lt;dbl&gt; | 1 &lt;dbl&gt; | 2 &lt;dbl&gt; | 3 &lt;dbl&gt; | 4 &lt;chr&gt; |\n|---|---|---|---|---|---|\n| 1 | 5.1 | 3.5 | 1.4 | 0.2 | Iris-setosa |\n| 2 | 4.9 | 3.0 | 1.4 | 0.2 | Iris-setosa |\n| 3 | 4.7 | 3.2 | 1.3 | 0.2 | Iris-setosa |\n| 4 | 4.6 | 3.1 | 1.5 | 0.2 | Iris-setosa |\n| 5 | 5.0 | 3.6 | 1.4 | 0.2 | Iris-setosa |\n| 6 | 5.4 | 3.9 | 1.7 | 0.4 | Iris-setosa |\n\n",
            "text/latex": "A data.frame: 6 × 5\n\\begin{tabular}{r|lllll}\n  & 0 & 1 & 2 & 3 & 4\\\\\n  & <dbl> & <dbl> & <dbl> & <dbl> & <chr>\\\\\n\\hline\n\t1 & 5.1 & 3.5 & 1.4 & 0.2 & Iris-setosa\\\\\n\t2 & 4.9 & 3.0 & 1.4 & 0.2 & Iris-setosa\\\\\n\t3 & 4.7 & 3.2 & 1.3 & 0.2 & Iris-setosa\\\\\n\t4 & 4.6 & 3.1 & 1.5 & 0.2 & Iris-setosa\\\\\n\t5 & 5.0 & 3.6 & 1.4 & 0.2 & Iris-setosa\\\\\n\t6 & 5.4 & 3.9 & 1.7 & 0.4 & Iris-setosa\\\\\n\\end{tabular}\n",
            "text/plain": "  0   1   2   3   4          \n1 5.1 3.5 1.4 0.2 Iris-setosa\n2 4.9 3.0 1.4 0.2 Iris-setosa\n3 4.7 3.2 1.3 0.2 Iris-setosa\n4 4.6 3.1 1.5 0.2 Iris-setosa\n5 5.0 3.6 1.4 0.2 Iris-setosa\n6 5.4 3.9 1.7 0.4 Iris-setosa"
          },
          "metadata": {}
        }
      ],
      "execution_count": 7,
      "metadata": {
        "jupyter": {
          "source_hidden": false,
          "outputs_hidden": false
        },
        "nteract": {
          "transient": {
            "deleting": false
          }
        },
        "gather": {
          "logged": 1712224887955
        }
      }
    }
  ],
  "metadata": {
    "kernelspec": {
      "name": "ir",
      "language": "R",
      "display_name": "R"
    },
    "language_info": {
      "name": "R",
      "codemirror_mode": "r",
      "pygments_lexer": "r",
      "mimetype": "text/x-r-source",
      "file_extension": ".r",
      "version": "4.3.2"
    },
    "microsoft": {
      "ms_spell_check": {
        "ms_spell_check_language": "en"
      },
      "host": {
        "AzureML": {
          "notebookHasBeenCompleted": true
        }
      }
    },
    "kernel_info": {
      "name": "ir"
    },
    "nteract": {
      "version": "nteract-front-end@1.0.0"
    }
  },
  "nbformat": 4,
  "nbformat_minor": 2
}